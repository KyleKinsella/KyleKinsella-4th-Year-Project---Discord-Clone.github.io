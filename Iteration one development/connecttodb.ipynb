{
 "cells": [
  {
   "cell_type": "code",
   "execution_count": 116,
   "metadata": {},
   "outputs": [],
   "source": [
    "import DBcm\n"
   ]
  },
  {
   "cell_type": "code",
   "execution_count": 117,
   "metadata": {},
   "outputs": [],
   "source": [
    "config = {\n",
    "    \"user\": \"root\",\n",
    "    \"password\": \"\",\n",
    "    \"database\": \"users\",\n",
    "    \"host\": \"localhost\"\n",
    "}"
   ]
  },
  {
   "cell_type": "code",
   "execution_count": 118,
   "metadata": {},
   "outputs": [
    {
     "name": "stdout",
     "output_type": "stream",
     "text": [
      "{'user': 'root', 'password': '', 'database': 'users', 'host': 'localhost'}\n"
     ]
    }
   ],
   "source": [
    "print(config)"
   ]
  },
  {
   "cell_type": "code",
   "execution_count": 119,
   "metadata": {},
   "outputs": [],
   "source": [
    "import mysql.connector"
   ]
  },
  {
   "cell_type": "code",
   "execution_count": 120,
   "metadata": {},
   "outputs": [],
   "source": [
    "mydb = mysql.connector.connect(\n",
    "\n",
    "    user = \"root\",\n",
    "    password = \"\",\n",
    "    database = \"users\",\n",
    "    host = \"localhost\"\n",
    ")"
   ]
  },
  {
   "cell_type": "code",
   "execution_count": 121,
   "metadata": {},
   "outputs": [],
   "source": [
    "INSERT = \"\"\"\n",
    "    INSERT INTO communicators\n",
    "    (username, email, password)\n",
    "    VALUES\n",
    "    (%s, %s, %s)\n",
    " \"\"\""
   ]
  },
  {
   "cell_type": "code",
   "execution_count": 122,
   "metadata": {},
   "outputs": [
    {
     "name": "stdout",
     "output_type": "stream",
     "text": [
      "('Kyle', 'kyletest@.com', '123')\n"
     ]
    }
   ],
   "source": [
    "name = \"Kyle\"\n",
    "email = \"kyletest@.com\"\n",
    "password = \"123\"\n",
    "\n",
    "data = (name, email, password)\n",
    "\n",
    "print(data)\n",
    "\n",
    "with DBcm.UseDatabase(config) as db:\n",
    "    db.execute(INSERT, data)"
   ]
  },
  {
   "cell_type": "code",
   "execution_count": null,
   "metadata": {},
   "outputs": [],
   "source": []
  }
 ],
 "metadata": {
  "kernelspec": {
   "display_name": "Python 3",
   "language": "python",
   "name": "python3"
  },
  "language_info": {
   "codemirror_mode": {
    "name": "ipython",
    "version": 3
   },
   "file_extension": ".py",
   "mimetype": "text/x-python",
   "name": "python",
   "nbconvert_exporter": "python",
   "pygments_lexer": "ipython3",
   "version": "3.11.9"
  }
 },
 "nbformat": 4,
 "nbformat_minor": 2
}
